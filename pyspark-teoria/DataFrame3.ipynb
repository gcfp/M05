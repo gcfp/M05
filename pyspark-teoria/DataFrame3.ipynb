{
  "cells": [
    {
      "cell_type": "code",
      "execution_count": 75,
      "metadata": {
        "id": "De0LfdF1ediX"
      },
      "outputs": [],
      "source": [
        "from pyspark.sql import SparkSession\n",
        "spark = SparkSession.builder.getOrCreate()"
      ]
    },
    {
      "cell_type": "code",
      "execution_count": 76,
      "metadata": {
        "id": "ZLSaMg9Tepgs"
      },
      "outputs": [],
      "source": [
        "flights = spark.read.csv('flights_small.csv', header=True)"
      ]
    },
    {
      "cell_type": "markdown",
      "metadata": {
        "id": "QR88A5ole9lx"
      },
      "source": [
        "FINS aquí els 3 passets necessaris per tenir un Spark DataFrame"
      ]
    },
    {
      "cell_type": "code",
      "execution_count": 77,
      "metadata": {
        "colab": {
          "base_uri": "https://localhost:8080/"
        },
        "id": "wOtlYe6hfGcd",
        "outputId": "ebe3f252-ba3c-4e3a-b32c-75912caa214b"
      },
      "outputs": [
        {
          "name": "stdout",
          "output_type": "stream",
          "text": [
            "+----+-----+---+--------+---------+--------+---------+-------+-------+------+------+----+--------+--------+----+------+\n",
            "|year|month|day|dep_time|dep_delay|arr_time|arr_delay|carrier|tailnum|flight|origin|dest|air_time|distance|hour|minute|\n",
            "+----+-----+---+--------+---------+--------+---------+-------+-------+------+------+----+--------+--------+----+------+\n",
            "|2014|   12|  8|     658|       -7|     935|       -5|     VX| N846VA|  1780|   SEA| LAX|     132|     954|   6|    58|\n",
            "|2014|    1| 22|    1040|        5|    1505|        5|     AS| N559AS|   851|   SEA| HNL|     360|    2677|  10|    40|\n",
            "|2014|    3|  9|    1443|       -2|    1652|        2|     VX| N847VA|   755|   SEA| SFO|     111|     679|  14|    43|\n",
            "|2014|    4|  9|    1705|       45|    1839|       34|     WN| N360SW|   344|   PDX| SJC|      83|     569|  17|     5|\n",
            "|2014|    3|  9|     754|       -1|    1015|        1|     AS| N612AS|   522|   SEA| BUR|     127|     937|   7|    54|\n",
            "|2014|    1| 15|    1037|        7|    1352|        2|     WN| N646SW|    48|   PDX| DEN|     121|     991|  10|    37|\n",
            "|2014|    7|  2|     847|       42|    1041|       51|     WN| N422WN|  1520|   PDX| OAK|      90|     543|   8|    47|\n",
            "|2014|    5| 12|    1655|       -5|    1842|      -18|     VX| N361VA|   755|   SEA| SFO|      98|     679|  16|    55|\n",
            "|2014|    4| 19|    1236|       -4|    1508|       -7|     AS| N309AS|   490|   SEA| SAN|     135|    1050|  12|    36|\n",
            "|2014|   11| 19|    1812|       -3|    2352|       -4|     AS| N564AS|    26|   SEA| ORD|     198|    1721|  18|    12|\n",
            "|2014|   11|  8|    1653|       -2|    1924|       -1|     AS| N323AS|   448|   SEA| LAX|     130|     954|  16|    53|\n",
            "|2014|    8|  3|    1120|        0|    1415|        2|     AS| N305AS|   656|   SEA| PHX|     154|    1107|  11|    20|\n",
            "|2014|   10| 30|     811|       21|    1038|       29|     AS| N433AS|   608|   SEA| LAS|     127|     867|   8|    11|\n",
            "|2014|   11| 12|    2346|       -4|     217|      -28|     AS| N765AS|   121|   SEA| ANC|     183|    1448|  23|    46|\n",
            "|2014|   10| 31|    1314|       89|    1544|      111|     AS| N713AS|   306|   SEA| SFO|     129|     679|  13|    14|\n",
            "|2014|    1| 29|    2009|        3|    2159|        9|     UA| N27205|  1458|   PDX| SFO|      90|     550|  20|     9|\n",
            "|2014|   12| 17|    2015|       50|    2150|       41|     AS| N626AS|   368|   SEA| SMF|      76|     605|  20|    15|\n",
            "|2014|    8| 11|    1017|       -3|    1613|       -7|     WN| N8634A|   827|   SEA| MDW|     216|    1733|  10|    17|\n",
            "|2014|    1| 13|    2156|       -9|     607|      -15|     AS| N597AS|    24|   SEA| BOS|     290|    2496|  21|    56|\n",
            "|2014|    6|  5|    1733|      -12|    1945|      -10|     OO| N215AG|  3488|   PDX| BUR|     111|     817|  17|    33|\n",
            "+----+-----+---+--------+---------+--------+---------+-------+-------+------+------+----+--------+--------+----+------+\n",
            "only showing top 20 rows\n",
            "\n"
          ]
        }
      ],
      "source": [
        "flights.show()"
      ]
    },
    {
      "cell_type": "markdown",
      "metadata": {
        "id": "X9GumlvzfhwQ"
      },
      "source": [
        "Ens han promès \"estil\" SQL, veiem-ho"
      ]
    },
    {
      "cell_type": "code",
      "execution_count": 78,
      "metadata": {
        "id": "sVoJ5OOpg4uu"
      },
      "outputs": [],
      "source": [
        "flights.createOrReplaceTempView(\"flights\")"
      ]
    },
    {
      "cell_type": "code",
      "execution_count": 79,
      "metadata": {
        "id": "XJDc-knPfmNu"
      },
      "outputs": [],
      "source": [
        "query = 'FROM flights SELECT * LIMIT 10'"
      ]
    },
    {
      "cell_type": "markdown",
      "metadata": {
        "id": "erRDN0eFhFrF"
      },
      "source": [
        "Cuidado, si no omplim el Catalog no funciona!"
      ]
    },
    {
      "cell_type": "code",
      "execution_count": 80,
      "metadata": {
        "id": "2CVTDgdUf0JP"
      },
      "outputs": [],
      "source": [
        "flights10 = spark.sql(query)"
      ]
    },
    {
      "cell_type": "code",
      "execution_count": 81,
      "metadata": {
        "colab": {
          "base_uri": "https://localhost:8080/"
        },
        "id": "rWNqAylshM09",
        "outputId": "9c5315b9-c4a9-40d4-af59-86810adeb7b8"
      },
      "outputs": [
        {
          "name": "stdout",
          "output_type": "stream",
          "text": [
            "+----+-----+---+--------+---------+--------+---------+-------+-------+------+------+----+--------+--------+----+------+\n",
            "|year|month|day|dep_time|dep_delay|arr_time|arr_delay|carrier|tailnum|flight|origin|dest|air_time|distance|hour|minute|\n",
            "+----+-----+---+--------+---------+--------+---------+-------+-------+------+------+----+--------+--------+----+------+\n",
            "|2014|   12|  8|     658|       -7|     935|       -5|     VX| N846VA|  1780|   SEA| LAX|     132|     954|   6|    58|\n",
            "|2014|    1| 22|    1040|        5|    1505|        5|     AS| N559AS|   851|   SEA| HNL|     360|    2677|  10|    40|\n",
            "|2014|    3|  9|    1443|       -2|    1652|        2|     VX| N847VA|   755|   SEA| SFO|     111|     679|  14|    43|\n",
            "|2014|    4|  9|    1705|       45|    1839|       34|     WN| N360SW|   344|   PDX| SJC|      83|     569|  17|     5|\n",
            "|2014|    3|  9|     754|       -1|    1015|        1|     AS| N612AS|   522|   SEA| BUR|     127|     937|   7|    54|\n",
            "|2014|    1| 15|    1037|        7|    1352|        2|     WN| N646SW|    48|   PDX| DEN|     121|     991|  10|    37|\n",
            "|2014|    7|  2|     847|       42|    1041|       51|     WN| N422WN|  1520|   PDX| OAK|      90|     543|   8|    47|\n",
            "|2014|    5| 12|    1655|       -5|    1842|      -18|     VX| N361VA|   755|   SEA| SFO|      98|     679|  16|    55|\n",
            "|2014|    4| 19|    1236|       -4|    1508|       -7|     AS| N309AS|   490|   SEA| SAN|     135|    1050|  12|    36|\n",
            "|2014|   11| 19|    1812|       -3|    2352|       -4|     AS| N564AS|    26|   SEA| ORD|     198|    1721|  18|    12|\n",
            "+----+-----+---+--------+---------+--------+---------+-------+-------+------+------+----+--------+--------+----+------+\n",
            "\n"
          ]
        }
      ],
      "source": [
        "flights10.show()"
      ]
    },
    {
      "cell_type": "markdown",
      "metadata": {
        "id": "nD_VolQsiLvu"
      },
      "source": [
        "Ara veurem com fer el camí de Spark DataFrame cap a Pandas Dataframe. Camí invers."
      ]
    },
    {
      "cell_type": "code",
      "execution_count": 82,
      "metadata": {
        "id": "OamjIPULigRl"
      },
      "outputs": [],
      "source": [
        "import pandas as pd"
      ]
    },
    {
      "cell_type": "code",
      "execution_count": 83,
      "metadata": {
        "id": "ZK4eUUEQijUm"
      },
      "outputs": [],
      "source": [
        "query2 = 'SELECT origin, dest, COUNT(*) as N FROM flights GROUP BY origin, dest'"
      ]
    },
    {
      "cell_type": "code",
      "execution_count": 84,
      "metadata": {
        "id": "ZelEsqv7ixvO"
      },
      "outputs": [],
      "source": [
        "flights_counts = spark.sql(query2)"
      ]
    },
    {
      "cell_type": "markdown",
      "metadata": {
        "id": "wLi19WbIjjao"
      },
      "source": [
        "Invoquem cap a Pandas"
      ]
    },
    {
      "cell_type": "code",
      "execution_count": 85,
      "metadata": {
        "id": "j_HMimpnjm6M"
      },
      "outputs": [],
      "source": [
        "pd_counts = flights_counts.toPandas()"
      ]
    },
    {
      "cell_type": "code",
      "execution_count": 86,
      "metadata": {
        "colab": {
          "base_uri": "https://localhost:8080/"
        },
        "id": "4lXq_ZIdjysu",
        "outputId": "3d2bf08f-852b-45ef-ac0b-e6db63d8966b"
      },
      "outputs": [
        {
          "name": "stdout",
          "output_type": "stream",
          "text": [
            "  origin dest    N\n",
            "0    SEA  RNO    8\n",
            "1    SEA  DTW   98\n",
            "2    SEA  CLE    2\n",
            "3    SEA  LAX  450\n",
            "4    PDX  SEA  144\n"
          ]
        }
      ],
      "source": [
        "print(pd_counts.head())"
      ]
    },
    {
      "cell_type": "markdown",
      "metadata": {
        "id": "viHOCGYbk7ot"
      },
      "source": [
        "Atenció: A partir d'aquí, imaginem que la tasca corre en un altre node\n",
        "\n",
        "Tenim la vista \"flights\" al cataleg, anem a recuperar un Spark DataFrame que es podria dir flights sense problema però anomenarem flights2"
      ]
    },
    {
      "cell_type": "code",
      "execution_count": 87,
      "metadata": {
        "id": "ixxXfl1MlVua"
      },
      "outputs": [],
      "source": [
        "flights2 = spark.table('flights')"
      ]
    },
    {
      "cell_type": "code",
      "execution_count": 88,
      "metadata": {
        "colab": {
          "base_uri": "https://localhost:8080/"
        },
        "id": "dhECALBulrM-",
        "outputId": "3868b9ca-63cd-482d-c802-0782dc8fd84b"
      },
      "outputs": [
        {
          "name": "stdout",
          "output_type": "stream",
          "text": [
            "+----+-----+---+--------+---------+--------+---------+-------+-------+------+------+----+--------+--------+----+------+\n",
            "|year|month|day|dep_time|dep_delay|arr_time|arr_delay|carrier|tailnum|flight|origin|dest|air_time|distance|hour|minute|\n",
            "+----+-----+---+--------+---------+--------+---------+-------+-------+------+------+----+--------+--------+----+------+\n",
            "|2014|   12|  8|     658|       -7|     935|       -5|     VX| N846VA|  1780|   SEA| LAX|     132|     954|   6|    58|\n",
            "|2014|    1| 22|    1040|        5|    1505|        5|     AS| N559AS|   851|   SEA| HNL|     360|    2677|  10|    40|\n",
            "|2014|    3|  9|    1443|       -2|    1652|        2|     VX| N847VA|   755|   SEA| SFO|     111|     679|  14|    43|\n",
            "|2014|    4|  9|    1705|       45|    1839|       34|     WN| N360SW|   344|   PDX| SJC|      83|     569|  17|     5|\n",
            "|2014|    3|  9|     754|       -1|    1015|        1|     AS| N612AS|   522|   SEA| BUR|     127|     937|   7|    54|\n",
            "|2014|    1| 15|    1037|        7|    1352|        2|     WN| N646SW|    48|   PDX| DEN|     121|     991|  10|    37|\n",
            "|2014|    7|  2|     847|       42|    1041|       51|     WN| N422WN|  1520|   PDX| OAK|      90|     543|   8|    47|\n",
            "|2014|    5| 12|    1655|       -5|    1842|      -18|     VX| N361VA|   755|   SEA| SFO|      98|     679|  16|    55|\n",
            "|2014|    4| 19|    1236|       -4|    1508|       -7|     AS| N309AS|   490|   SEA| SAN|     135|    1050|  12|    36|\n",
            "|2014|   11| 19|    1812|       -3|    2352|       -4|     AS| N564AS|    26|   SEA| ORD|     198|    1721|  18|    12|\n",
            "|2014|   11|  8|    1653|       -2|    1924|       -1|     AS| N323AS|   448|   SEA| LAX|     130|     954|  16|    53|\n",
            "|2014|    8|  3|    1120|        0|    1415|        2|     AS| N305AS|   656|   SEA| PHX|     154|    1107|  11|    20|\n",
            "|2014|   10| 30|     811|       21|    1038|       29|     AS| N433AS|   608|   SEA| LAS|     127|     867|   8|    11|\n",
            "|2014|   11| 12|    2346|       -4|     217|      -28|     AS| N765AS|   121|   SEA| ANC|     183|    1448|  23|    46|\n",
            "|2014|   10| 31|    1314|       89|    1544|      111|     AS| N713AS|   306|   SEA| SFO|     129|     679|  13|    14|\n",
            "|2014|    1| 29|    2009|        3|    2159|        9|     UA| N27205|  1458|   PDX| SFO|      90|     550|  20|     9|\n",
            "|2014|   12| 17|    2015|       50|    2150|       41|     AS| N626AS|   368|   SEA| SMF|      76|     605|  20|    15|\n",
            "|2014|    8| 11|    1017|       -3|    1613|       -7|     WN| N8634A|   827|   SEA| MDW|     216|    1733|  10|    17|\n",
            "|2014|    1| 13|    2156|       -9|     607|      -15|     AS| N597AS|    24|   SEA| BOS|     290|    2496|  21|    56|\n",
            "|2014|    6|  5|    1733|      -12|    1945|      -10|     OO| N215AG|  3488|   PDX| BUR|     111|     817|  17|    33|\n",
            "+----+-----+---+--------+---------+--------+---------+-------+-------+------+------+----+--------+--------+----+------+\n",
            "only showing top 20 rows\n",
            "\n"
          ]
        }
      ],
      "source": [
        "flights2.show()"
      ]
    },
    {
      "cell_type": "markdown",
      "metadata": {
        "id": "f4BoP6ZOl1rp"
      },
      "source": [
        "Afegirem una columna nova amb la duració en hores del vol"
      ]
    },
    {
      "cell_type": "code",
      "execution_count": 89,
      "metadata": {
        "id": "b3Kqm9o1l7Nv"
      },
      "outputs": [],
      "source": [
        "flights2 = flights2.withColumn('duration_hours', flights2.air_time/60)"
      ]
    },
    {
      "cell_type": "markdown",
      "metadata": {
        "id": "IKLvUOLcmlIf"
      },
      "source": [
        "Comprovació que hi ha la nova columna"
      ]
    },
    {
      "cell_type": "code",
      "execution_count": 90,
      "metadata": {
        "colab": {
          "base_uri": "https://localhost:8080/"
        },
        "id": "ylcuWnDfmqs3",
        "outputId": "4373fe06-3aed-4dad-e82e-96a9d49aa7a4"
      },
      "outputs": [
        {
          "name": "stdout",
          "output_type": "stream",
          "text": [
            "+----+-----+---+--------+---------+--------+---------+-------+-------+------+------+----+--------+--------+----+------+------------------+\n",
            "|year|month|day|dep_time|dep_delay|arr_time|arr_delay|carrier|tailnum|flight|origin|dest|air_time|distance|hour|minute|    duration_hours|\n",
            "+----+-----+---+--------+---------+--------+---------+-------+-------+------+------+----+--------+--------+----+------+------------------+\n",
            "|2014|   12|  8|     658|       -7|     935|       -5|     VX| N846VA|  1780|   SEA| LAX|     132|     954|   6|    58|               2.2|\n",
            "|2014|    1| 22|    1040|        5|    1505|        5|     AS| N559AS|   851|   SEA| HNL|     360|    2677|  10|    40|               6.0|\n",
            "|2014|    3|  9|    1443|       -2|    1652|        2|     VX| N847VA|   755|   SEA| SFO|     111|     679|  14|    43|              1.85|\n",
            "|2014|    4|  9|    1705|       45|    1839|       34|     WN| N360SW|   344|   PDX| SJC|      83|     569|  17|     5|1.3833333333333333|\n",
            "|2014|    3|  9|     754|       -1|    1015|        1|     AS| N612AS|   522|   SEA| BUR|     127|     937|   7|    54|2.1166666666666667|\n",
            "|2014|    1| 15|    1037|        7|    1352|        2|     WN| N646SW|    48|   PDX| DEN|     121|     991|  10|    37|2.0166666666666666|\n",
            "|2014|    7|  2|     847|       42|    1041|       51|     WN| N422WN|  1520|   PDX| OAK|      90|     543|   8|    47|               1.5|\n",
            "|2014|    5| 12|    1655|       -5|    1842|      -18|     VX| N361VA|   755|   SEA| SFO|      98|     679|  16|    55|1.6333333333333333|\n",
            "|2014|    4| 19|    1236|       -4|    1508|       -7|     AS| N309AS|   490|   SEA| SAN|     135|    1050|  12|    36|              2.25|\n",
            "|2014|   11| 19|    1812|       -3|    2352|       -4|     AS| N564AS|    26|   SEA| ORD|     198|    1721|  18|    12|               3.3|\n",
            "|2014|   11|  8|    1653|       -2|    1924|       -1|     AS| N323AS|   448|   SEA| LAX|     130|     954|  16|    53|2.1666666666666665|\n",
            "|2014|    8|  3|    1120|        0|    1415|        2|     AS| N305AS|   656|   SEA| PHX|     154|    1107|  11|    20| 2.566666666666667|\n",
            "|2014|   10| 30|     811|       21|    1038|       29|     AS| N433AS|   608|   SEA| LAS|     127|     867|   8|    11|2.1166666666666667|\n",
            "|2014|   11| 12|    2346|       -4|     217|      -28|     AS| N765AS|   121|   SEA| ANC|     183|    1448|  23|    46|              3.05|\n",
            "|2014|   10| 31|    1314|       89|    1544|      111|     AS| N713AS|   306|   SEA| SFO|     129|     679|  13|    14|              2.15|\n",
            "|2014|    1| 29|    2009|        3|    2159|        9|     UA| N27205|  1458|   PDX| SFO|      90|     550|  20|     9|               1.5|\n",
            "|2014|   12| 17|    2015|       50|    2150|       41|     AS| N626AS|   368|   SEA| SMF|      76|     605|  20|    15|1.2666666666666666|\n",
            "|2014|    8| 11|    1017|       -3|    1613|       -7|     WN| N8634A|   827|   SEA| MDW|     216|    1733|  10|    17|               3.6|\n",
            "|2014|    1| 13|    2156|       -9|     607|      -15|     AS| N597AS|    24|   SEA| BOS|     290|    2496|  21|    56| 4.833333333333333|\n",
            "|2014|    6|  5|    1733|      -12|    1945|      -10|     OO| N215AG|  3488|   PDX| BUR|     111|     817|  17|    33|              1.85|\n",
            "+----+-----+---+--------+---------+--------+---------+-------+-------+------+------+----+--------+--------+----+------+------------------+\n",
            "only showing top 20 rows\n",
            "\n"
          ]
        }
      ],
      "source": [
        "flights2.show()"
      ]
    },
    {
      "cell_type": "markdown",
      "metadata": {
        "id": "ikmWs7fSm-vO"
      },
      "source": [
        "Ara podem filtrar amb Filter() que és semblant a fer un WHERE de SQL"
      ]
    },
    {
      "cell_type": "code",
      "execution_count": 91,
      "metadata": {
        "colab": {
          "base_uri": "https://localhost:8080/"
        },
        "id": "OUb6ZYPvnKWa",
        "outputId": "056d9182-613d-424e-b3c1-983e1ac0b007"
      },
      "outputs": [
        {
          "name": "stdout",
          "output_type": "stream",
          "text": [
            "+----+-----+---+--------+---------+--------+---------+-------+-------+------+------+----+--------+--------+----+------+------------------+\n",
            "|year|month|day|dep_time|dep_delay|arr_time|arr_delay|carrier|tailnum|flight|origin|dest|air_time|distance|hour|minute|    duration_hours|\n",
            "+----+-----+---+--------+---------+--------+---------+-------+-------+------+------+----+--------+--------+----+------+------------------+\n",
            "|2014|   12|  8|     658|       -7|     935|       -5|     VX| N846VA|  1780|   SEA| LAX|     132|     954|   6|    58|               2.2|\n",
            "|2014|    1| 22|    1040|        5|    1505|        5|     AS| N559AS|   851|   SEA| HNL|     360|    2677|  10|    40|               6.0|\n",
            "|2014|    3|  9|     754|       -1|    1015|        1|     AS| N612AS|   522|   SEA| BUR|     127|     937|   7|    54|2.1166666666666667|\n",
            "|2014|    1| 15|    1037|        7|    1352|        2|     WN| N646SW|    48|   PDX| DEN|     121|     991|  10|    37|2.0166666666666666|\n",
            "|2014|    4| 19|    1236|       -4|    1508|       -7|     AS| N309AS|   490|   SEA| SAN|     135|    1050|  12|    36|              2.25|\n",
            "|2014|   11| 19|    1812|       -3|    2352|       -4|     AS| N564AS|    26|   SEA| ORD|     198|    1721|  18|    12|               3.3|\n",
            "|2014|   11|  8|    1653|       -2|    1924|       -1|     AS| N323AS|   448|   SEA| LAX|     130|     954|  16|    53|2.1666666666666665|\n",
            "|2014|    8|  3|    1120|        0|    1415|        2|     AS| N305AS|   656|   SEA| PHX|     154|    1107|  11|    20| 2.566666666666667|\n",
            "|2014|   10| 30|     811|       21|    1038|       29|     AS| N433AS|   608|   SEA| LAS|     127|     867|   8|    11|2.1166666666666667|\n",
            "|2014|   11| 12|    2346|       -4|     217|      -28|     AS| N765AS|   121|   SEA| ANC|     183|    1448|  23|    46|              3.05|\n",
            "|2014|   10| 31|    1314|       89|    1544|      111|     AS| N713AS|   306|   SEA| SFO|     129|     679|  13|    14|              2.15|\n",
            "|2014|    8| 11|    1017|       -3|    1613|       -7|     WN| N8634A|   827|   SEA| MDW|     216|    1733|  10|    17|               3.6|\n",
            "|2014|    1| 13|    2156|       -9|     607|      -15|     AS| N597AS|    24|   SEA| BOS|     290|    2496|  21|    56| 4.833333333333333|\n",
            "|2014|    9| 26|     610|       -5|    1523|       65|     US| N127UW|   616|   SEA| PHL|     293|    2378|   6|    10| 4.883333333333334|\n",
            "|2014|   12|  4|     954|       -6|    1348|      -17|     HA| N395HA|    29|   SEA| OGG|     333|    2640|   9|    54|              5.55|\n",
            "|2014|    2| 25|     555|       -5|     819|       -3|     AS| N549AS|   604|   SEA| LAS|     121|     867|   5|    55|2.0166666666666666|\n",
            "|2014|    8| 24|    1646|       21|    1901|        1|     B6| N606JB|  1007|   SEA| LGB|     121|     965|  16|    46|2.0166666666666666|\n",
            "|2014|    6|  4|    1115|        0|    1346|       -3|     AS| N461AS|   488|   SEA| SAN|     133|    1050|  11|    15| 2.216666666666667|\n",
            "|2014|    6| 26|    2054|       -1|    2318|       -6|     B6| N590JB|   907|   SEA| ANC|     179|    1448|  20|    54|2.9833333333333334|\n",
            "|2014|    6|  7|    1823|       -7|    2112|      -28|     AS| N512AS|   815|   SEA| LIH|     335|    2701|  18|    23| 5.583333333333333|\n",
            "+----+-----+---+--------+---------+--------+---------+-------+-------+------+------+----+--------+--------+----+------+------------------+\n",
            "only showing top 20 rows\n",
            "\n"
          ]
        }
      ],
      "source": [
        "flights2.filter(\"air_time > 120\").show()"
      ]
    },
    {
      "cell_type": "markdown",
      "metadata": {
        "id": "t3EksaPkns84"
      },
      "source": [
        "El mateix filtre que el pas anterior amb una altra sintaxi, escull la que més t'agradi"
      ]
    },
    {
      "cell_type": "code",
      "execution_count": 92,
      "metadata": {
        "colab": {
          "base_uri": "https://localhost:8080/"
        },
        "id": "PsWBsZzmnz7m",
        "outputId": "ebee42f6-d3bf-403f-dbf1-e4fbf8b3581c"
      },
      "outputs": [
        {
          "name": "stdout",
          "output_type": "stream",
          "text": [
            "+----+-----+---+--------+---------+--------+---------+-------+-------+------+------+----+--------+--------+----+------+------------------+\n",
            "|year|month|day|dep_time|dep_delay|arr_time|arr_delay|carrier|tailnum|flight|origin|dest|air_time|distance|hour|minute|    duration_hours|\n",
            "+----+-----+---+--------+---------+--------+---------+-------+-------+------+------+----+--------+--------+----+------+------------------+\n",
            "|2014|   12|  8|     658|       -7|     935|       -5|     VX| N846VA|  1780|   SEA| LAX|     132|     954|   6|    58|               2.2|\n",
            "|2014|    1| 22|    1040|        5|    1505|        5|     AS| N559AS|   851|   SEA| HNL|     360|    2677|  10|    40|               6.0|\n",
            "|2014|    3|  9|     754|       -1|    1015|        1|     AS| N612AS|   522|   SEA| BUR|     127|     937|   7|    54|2.1166666666666667|\n",
            "|2014|    1| 15|    1037|        7|    1352|        2|     WN| N646SW|    48|   PDX| DEN|     121|     991|  10|    37|2.0166666666666666|\n",
            "|2014|    4| 19|    1236|       -4|    1508|       -7|     AS| N309AS|   490|   SEA| SAN|     135|    1050|  12|    36|              2.25|\n",
            "|2014|   11| 19|    1812|       -3|    2352|       -4|     AS| N564AS|    26|   SEA| ORD|     198|    1721|  18|    12|               3.3|\n",
            "|2014|   11|  8|    1653|       -2|    1924|       -1|     AS| N323AS|   448|   SEA| LAX|     130|     954|  16|    53|2.1666666666666665|\n",
            "|2014|    8|  3|    1120|        0|    1415|        2|     AS| N305AS|   656|   SEA| PHX|     154|    1107|  11|    20| 2.566666666666667|\n",
            "|2014|   10| 30|     811|       21|    1038|       29|     AS| N433AS|   608|   SEA| LAS|     127|     867|   8|    11|2.1166666666666667|\n",
            "|2014|   11| 12|    2346|       -4|     217|      -28|     AS| N765AS|   121|   SEA| ANC|     183|    1448|  23|    46|              3.05|\n",
            "|2014|   10| 31|    1314|       89|    1544|      111|     AS| N713AS|   306|   SEA| SFO|     129|     679|  13|    14|              2.15|\n",
            "|2014|    8| 11|    1017|       -3|    1613|       -7|     WN| N8634A|   827|   SEA| MDW|     216|    1733|  10|    17|               3.6|\n",
            "|2014|    1| 13|    2156|       -9|     607|      -15|     AS| N597AS|    24|   SEA| BOS|     290|    2496|  21|    56| 4.833333333333333|\n",
            "|2014|    9| 26|     610|       -5|    1523|       65|     US| N127UW|   616|   SEA| PHL|     293|    2378|   6|    10| 4.883333333333334|\n",
            "|2014|   12|  4|     954|       -6|    1348|      -17|     HA| N395HA|    29|   SEA| OGG|     333|    2640|   9|    54|              5.55|\n",
            "|2014|    2| 25|     555|       -5|     819|       -3|     AS| N549AS|   604|   SEA| LAS|     121|     867|   5|    55|2.0166666666666666|\n",
            "|2014|    8| 24|    1646|       21|    1901|        1|     B6| N606JB|  1007|   SEA| LGB|     121|     965|  16|    46|2.0166666666666666|\n",
            "|2014|    6|  4|    1115|        0|    1346|       -3|     AS| N461AS|   488|   SEA| SAN|     133|    1050|  11|    15| 2.216666666666667|\n",
            "|2014|    6| 26|    2054|       -1|    2318|       -6|     B6| N590JB|   907|   SEA| ANC|     179|    1448|  20|    54|2.9833333333333334|\n",
            "|2014|    6|  7|    1823|       -7|    2112|      -28|     AS| N512AS|   815|   SEA| LIH|     335|    2701|  18|    23| 5.583333333333333|\n",
            "+----+-----+---+--------+---------+--------+---------+-------+-------+------+------+----+--------+--------+----+------+------------------+\n",
            "only showing top 20 rows\n",
            "\n"
          ]
        }
      ],
      "source": [
        "flights2.filter(flights2.air_time > 120).show()"
      ]
    },
    {
      "cell_type": "markdown",
      "metadata": {
        "id": "1_HIx9YioU9p"
      },
      "source": [
        "Repetim en 2 passos.\n",
        "Obtindrem els vols de llarga distància."
      ]
    },
    {
      "cell_type": "code",
      "execution_count": 93,
      "metadata": {
        "colab": {
          "base_uri": "https://localhost:8080/"
        },
        "id": "r3wqMR_NocwE",
        "outputId": "e825bc28-6bf8-48a0-8768-a5904500c5b4"
      },
      "outputs": [
        {
          "name": "stdout",
          "output_type": "stream",
          "text": [
            "+----+-----+---+--------+---------+--------+---------+-------+-------+------+------+----+--------+--------+----+------+-----------------+\n",
            "|year|month|day|dep_time|dep_delay|arr_time|arr_delay|carrier|tailnum|flight|origin|dest|air_time|distance|hour|minute|   duration_hours|\n",
            "+----+-----+---+--------+---------+--------+---------+-------+-------+------+------+----+--------+--------+----+------+-----------------+\n",
            "|2014|    3|  9|    2219|       -1|     644|      -11|     AA| N5CNAA|  1070|   SEA| MIA|     303|    2724|  22|    19|             5.05|\n",
            "|2014|    1|  5|    2302|       57|     745|       65|     AA| N630AA|  1070|   SEA| MIA|     299|    2724|  23|     2|4.983333333333333|\n",
            "|2014|    9|  6|    2336|        1|     811|       -5|     AA| N3JHAA|  1070|   SEA| MIA|     312|    2724|  23|    36|              5.2|\n",
            "|2014|   11| 30|     105|        0|     929|      -11|     AA| N3APAA|   212|   SEA| MIA|     308|    2724|   1|     5|5.133333333333334|\n",
            "|2014|    9| 21|    2327|       -8|     809|       -7|     AA| N3AGAA|  1070|   SEA| MIA|     319|    2724|  23|    27|5.316666666666666|\n",
            "|2014|    3|  5|    2222|        7|     653|        3|     AA| N5ELAA|  1070|   SEA| MIA|     307|    2724|  22|    22|5.116666666666666|\n",
            "|2014|    3|  1|    2215|        0|     638|      -12|     AA| N5DUAA|  1070|   SEA| MIA|     306|    2724|  22|    15|              5.1|\n",
            "|2014|    6|  1|    2101|       11|     541|        6|     AA| N5CAAA|  1070|   SEA| MIA|     321|    2724|  21|     1|             5.35|\n",
            "|2014|    3| 28|    2321|       61|     746|       51|     AA| N640AA|  1070|   SEA| MIA|     308|    2724|  23|    21|5.133333333333334|\n",
            "|2014|    8| 13|    2127|       22|     608|       18|     AA| N5CHAA|  1070|   SEA| MIA|     320|    2724|  21|    27|5.333333333333333|\n",
            "|2014|    4| 17|    2215|       -5|     645|      -10|     AA| N5EFAA|  1070|   SEA| MIA|     311|    2724|  22|    15|5.183333333333334|\n",
            "|2014|    2| 13|    2213|       -2|     633|      -17|     AA| N634AA|  1070|   SEA| MIA|     299|    2724|  22|    13|4.983333333333333|\n",
            "|2014|   11|  8|    2356|        1|     824|       -5|     AA| N3GGAA|  1070|   SEA| MIA|     306|    2724|  23|    56|              5.1|\n",
            "|2014|    5| 11|    2046|       -4|     529|       -6|     AA| N634AA|  1070|   SEA| MIA|     325|    2724|  20|    46|5.416666666666667|\n",
            "|2014|    1| 30|    2201|       -4|     630|      -10|     AA| N633AA|  1070|   SEA| MIA|     306|    2724|  22|     1|              5.1|\n",
            "|2014|    3| 15|    2224|        4|     653|       -2|     AA| N5ELAA|  1070|   SEA| MIA|     305|    2724|  22|    24|5.083333333333333|\n",
            "|2014|    3| 13|    2210|      -10|     623|      -32|     AA| N5CDAA|  1070|   SEA| MIA|     296|    2724|  22|    10|4.933333333333334|\n",
            "|2014|    1| 19|    2157|       -8|     617|      -23|     AA| N5DNAA|  1070|   SEA| MIA|     296|    2724|  21|    57|4.933333333333334|\n",
            "|2014|   10| 12|      25|       45|     857|       36|     AA| N3FSAA|  1070|   SEA| MIA|     312|    2724|   0|    25|              5.2|\n",
            "+----+-----+---+--------+---------+--------+---------+-------+-------+------+------+----+--------+--------+----+------+-----------------+\n",
            "\n",
            "+----+-----+---+--------+---------+--------+---------+-------+-------+------+------+----+--------+--------+----+------+-----------------+\n",
            "|year|month|day|dep_time|dep_delay|arr_time|arr_delay|carrier|tailnum|flight|origin|dest|air_time|distance|hour|minute|   duration_hours|\n",
            "+----+-----+---+--------+---------+--------+---------+-------+-------+------+------+----+--------+--------+----+------+-----------------+\n",
            "|2014|    3|  9|    2219|       -1|     644|      -11|     AA| N5CNAA|  1070|   SEA| MIA|     303|    2724|  22|    19|             5.05|\n",
            "|2014|    1|  5|    2302|       57|     745|       65|     AA| N630AA|  1070|   SEA| MIA|     299|    2724|  23|     2|4.983333333333333|\n",
            "|2014|    9|  6|    2336|        1|     811|       -5|     AA| N3JHAA|  1070|   SEA| MIA|     312|    2724|  23|    36|              5.2|\n",
            "|2014|   11| 30|     105|        0|     929|      -11|     AA| N3APAA|   212|   SEA| MIA|     308|    2724|   1|     5|5.133333333333334|\n",
            "|2014|    9| 21|    2327|       -8|     809|       -7|     AA| N3AGAA|  1070|   SEA| MIA|     319|    2724|  23|    27|5.316666666666666|\n",
            "|2014|    3|  5|    2222|        7|     653|        3|     AA| N5ELAA|  1070|   SEA| MIA|     307|    2724|  22|    22|5.116666666666666|\n",
            "|2014|    3|  1|    2215|        0|     638|      -12|     AA| N5DUAA|  1070|   SEA| MIA|     306|    2724|  22|    15|              5.1|\n",
            "|2014|    6|  1|    2101|       11|     541|        6|     AA| N5CAAA|  1070|   SEA| MIA|     321|    2724|  21|     1|             5.35|\n",
            "|2014|    3| 28|    2321|       61|     746|       51|     AA| N640AA|  1070|   SEA| MIA|     308|    2724|  23|    21|5.133333333333334|\n",
            "|2014|    8| 13|    2127|       22|     608|       18|     AA| N5CHAA|  1070|   SEA| MIA|     320|    2724|  21|    27|5.333333333333333|\n",
            "|2014|    4| 17|    2215|       -5|     645|      -10|     AA| N5EFAA|  1070|   SEA| MIA|     311|    2724|  22|    15|5.183333333333334|\n",
            "|2014|    2| 13|    2213|       -2|     633|      -17|     AA| N634AA|  1070|   SEA| MIA|     299|    2724|  22|    13|4.983333333333333|\n",
            "|2014|   11|  8|    2356|        1|     824|       -5|     AA| N3GGAA|  1070|   SEA| MIA|     306|    2724|  23|    56|              5.1|\n",
            "|2014|    5| 11|    2046|       -4|     529|       -6|     AA| N634AA|  1070|   SEA| MIA|     325|    2724|  20|    46|5.416666666666667|\n",
            "|2014|    1| 30|    2201|       -4|     630|      -10|     AA| N633AA|  1070|   SEA| MIA|     306|    2724|  22|     1|              5.1|\n",
            "|2014|    3| 15|    2224|        4|     653|       -2|     AA| N5ELAA|  1070|   SEA| MIA|     305|    2724|  22|    24|5.083333333333333|\n",
            "|2014|    3| 13|    2210|      -10|     623|      -32|     AA| N5CDAA|  1070|   SEA| MIA|     296|    2724|  22|    10|4.933333333333334|\n",
            "|2014|    1| 19|    2157|       -8|     617|      -23|     AA| N5DNAA|  1070|   SEA| MIA|     296|    2724|  21|    57|4.933333333333334|\n",
            "|2014|   10| 12|      25|       45|     857|       36|     AA| N3FSAA|  1070|   SEA| MIA|     312|    2724|   0|    25|              5.2|\n",
            "+----+-----+---+--------+---------+--------+---------+-------+-------+------+------+----+--------+--------+----+------+-----------------+\n",
            "\n"
          ]
        }
      ],
      "source": [
        "long_flights1 = flights2.filter(\"distance > 2720\")\n",
        "long_flights2 = flights2.filter(flights2.distance > 2720)\n",
        "long_flights1.show()\n",
        "long_flights2.show()"
      ]
    },
    {
      "cell_type": "markdown",
      "metadata": {
        "id": "JX2UXZqbpyBO"
      },
      "source": [
        "Ens molesta veure tantes columnes en exemples anteriors? Cap problema, fem \"selects\""
      ]
    },
    {
      "cell_type": "code",
      "execution_count": 94,
      "metadata": {
        "colab": {
          "base_uri": "https://localhost:8080/"
        },
        "id": "cgfO5vIOp9g3",
        "outputId": "1eeb00ed-47ea-4fbd-adda-9812c98f0b14"
      },
      "outputs": [
        {
          "name": "stdout",
          "output_type": "stream",
          "text": [
            "+-------+------+----+\n",
            "|tailnum|origin|dest|\n",
            "+-------+------+----+\n",
            "| N846VA|   SEA| LAX|\n",
            "| N559AS|   SEA| HNL|\n",
            "| N847VA|   SEA| SFO|\n",
            "| N360SW|   PDX| SJC|\n",
            "| N612AS|   SEA| BUR|\n",
            "+-------+------+----+\n",
            "only showing top 5 rows\n",
            "\n",
            "+------+----+-------+\n",
            "|origin|dest|carrier|\n",
            "+------+----+-------+\n",
            "|   SEA| PDX|     OO|\n",
            "|   SEA| PDX|     OO|\n",
            "|   SEA| PDX|     OO|\n",
            "|   SEA| PDX|     OO|\n",
            "|   SEA| PDX|     OO|\n",
            "|   SEA| PDX|     AS|\n",
            "|   SEA| PDX|     OO|\n",
            "|   SEA| PDX|     OO|\n",
            "|   SEA| PDX|     OO|\n",
            "|   SEA| PDX|     OO|\n",
            "|   SEA| PDX|     OO|\n",
            "|   SEA| PDX|     OO|\n",
            "|   SEA| PDX|     OO|\n",
            "|   SEA| PDX|     OO|\n",
            "|   SEA| PDX|     AS|\n",
            "|   SEA| PDX|     OO|\n",
            "|   SEA| PDX|     OO|\n",
            "|   SEA| PDX|     OO|\n",
            "|   SEA| PDX|     OO|\n",
            "|   SEA| PDX|     OO|\n",
            "+------+----+-------+\n",
            "only showing top 20 rows\n",
            "\n"
          ]
        }
      ],
      "source": [
        "# Primer grup de columnes\n",
        "selected1 = flights2.select(\"tailnum\",\"origin\",\"dest\")\n",
        "# Segon grup de columnes (sintaxi alternativa)\n",
        "temp = flights2.select(flights2.origin, flights2.dest, flights2.carrier)\n",
        "# Primer Filtre\n",
        "filterA = flights2.origin == \"SEA\"\n",
        "# Segon Filtre\n",
        "filterB = flights2.dest == \"PDX\"\n",
        "# Encadenem filtres\n",
        "selected2 = temp.filter(filterA).filter(filterB)\n",
        "# Comprovacions\n",
        "selected1.show(5)\n",
        "selected2.show()"
      ]
    },
    {
      "cell_type": "markdown",
      "metadata": {
        "id": "Rzve6n-asqeZ"
      },
      "source": [
        "Anem a fer una operació de transformació més elaborada que les anteriors"
      ]
    },
    {
      "cell_type": "code",
      "execution_count": 95,
      "metadata": {
        "colab": {
          "base_uri": "https://localhost:8080/"
        },
        "id": "SbhwoB-QswwL",
        "outputId": "abcc88c7-7deb-4512-cf16-0b06bcb506d4"
      },
      "outputs": [
        {
          "name": "stdout",
          "output_type": "stream",
          "text": [
            "+------+----+-------+------------------+\n",
            "|origin|dest|tailnum|         avg_speed|\n",
            "+------+----+-------+------------------+\n",
            "|   SEA| LAX| N846VA| 433.6363636363636|\n",
            "|   SEA| HNL| N559AS| 446.1666666666667|\n",
            "|   SEA| SFO| N847VA|367.02702702702703|\n",
            "|   PDX| SJC| N360SW| 411.3253012048193|\n",
            "|   SEA| BUR| N612AS| 442.6771653543307|\n",
            "+------+----+-------+------------------+\n",
            "only showing top 5 rows\n",
            "\n"
          ]
        }
      ],
      "source": [
        "# Definim velicitat promig i li posem un ALIAS\n",
        "avg_speed = (flights2.distance/(flights2.air_time/60)).alias(\"avg_speed\")\n",
        "speed1 = flights2.select(\"origin\",\"dest\",\"tailnum\", avg_speed)\n",
        "speed1.show(5)"
      ]
    },
    {
      "cell_type": "markdown",
      "metadata": {
        "id": "oFBn6HX8t1rL"
      },
      "source": [
        "La mateixa transformació anterior estil SQL"
      ]
    },
    {
      "cell_type": "code",
      "execution_count": 96,
      "metadata": {
        "colab": {
          "base_uri": "https://localhost:8080/"
        },
        "id": "UMWGGQaTt6vc",
        "outputId": "4af94c64-7659-4292-a803-61c6501b8a80"
      },
      "outputs": [
        {
          "name": "stdout",
          "output_type": "stream",
          "text": [
            "+------+----+-------+------------------+\n",
            "|origin|dest|tailnum|         avg_speed|\n",
            "+------+----+-------+------------------+\n",
            "|   SEA| LAX| N846VA| 433.6363636363636|\n",
            "|   SEA| HNL| N559AS| 446.1666666666667|\n",
            "|   SEA| SFO| N847VA|367.02702702702703|\n",
            "|   PDX| SJC| N360SW| 411.3253012048193|\n",
            "|   SEA| BUR| N612AS| 442.6771653543307|\n",
            "+------+----+-------+------------------+\n",
            "only showing top 5 rows\n",
            "\n"
          ]
        }
      ],
      "source": [
        "speed2 = flights2.selectExpr(\"origin\",\"dest\",\"tailnum\",\"distance/(air_time/60) as avg_speed\")\n",
        "speed2.show(5)"
      ]
    },
    {
      "cell_type": "markdown",
      "metadata": {
        "id": "MA839NN0uk1t"
      },
      "source": [
        "Arriba el torn dels AGREGATS: EXERCICI PROPOSAT, analitza error i troba la solució per a cada origen busquem una cosa en concret\n"
      ]
    },
    {
      "cell_type": "code",
      "execution_count": 97,
      "metadata": {
        "colab": {
          "base_uri": "https://localhost:8080/",
          "height": 311
        },
        "id": "i94D4tbCwGe9",
        "outputId": "ab747060-fdcf-43a9-ca13-065555888a05"
      },
      "outputs": [
        {
          "name": "stdout",
          "output_type": "stream",
          "text": [
            "+-------------+\n",
            "|max(air_time)|\n",
            "+-------------+\n",
            "|          409|\n",
            "+-------------+\n",
            "\n"
          ]
        }
      ],
      "source": [
        "flights2 = flights2.withColumn(\"air_time\", flights2.air_time.cast(\"integer\"))\n",
        "flights2.filter(flights2.origin == \"SEA\").groupBy().max('air_time').show()"
      ]
    },
    {
      "cell_type": "code",
      "execution_count": 98,
      "metadata": {},
      "outputs": [
        {
          "name": "stdout",
          "output_type": "stream",
          "text": [
            "+-------------+\n",
            "|min(distance)|\n",
            "+-------------+\n",
            "|           24|\n",
            "+-------------+\n",
            "\n"
          ]
        }
      ],
      "source": [
        "flights2 = flights2.withColumn(\"distance\", flights2.air_time.cast(\"integer\"))\n",
        "flights2.filter(flights2.origin == \"PDX\").groupBy().min('distance').show()"
      ]
    },
    {
      "cell_type": "code",
      "execution_count": 99,
      "metadata": {},
      "outputs": [
        {
          "name": "stdout",
          "output_type": "stream",
          "text": [
            "+-----------------+\n",
            "|    avg(air_time)|\n",
            "+-----------------+\n",
            "|160.4361496051259|\n",
            "+-----------------+\n",
            "\n"
          ]
        }
      ],
      "source": [
        "flights2.filter(flights2.origin == \"SEA\").groupBy().avg('air_time').show()"
      ]
    },
    {
      "cell_type": "markdown",
      "metadata": {
        "id": "ygF5icVUwoMB"
      },
      "source": [
        "Seguim fent agregats"
      ]
    },
    {
      "cell_type": "code",
      "execution_count": 100,
      "metadata": {
        "colab": {
          "base_uri": "https://localhost:8080/"
        },
        "id": "8PnpcuRVyT-O",
        "outputId": "8571739c-1e8c-4601-aaea-bf3f11c875bc"
      },
      "outputs": [
        {
          "name": "stdout",
          "output_type": "stream",
          "text": [
            "+-------+-----+\n",
            "|tailnum|count|\n",
            "+-------+-----+\n",
            "| N442AS|   38|\n",
            "| N102UW|    2|\n",
            "| N36472|    4|\n",
            "| N38451|    4|\n",
            "| N73283|    4|\n",
            "| N513UA|    2|\n",
            "| N954WN|    5|\n",
            "| N388DA|    3|\n",
            "| N567AA|    1|\n",
            "| N516UA|    2|\n",
            "| N927DN|    1|\n",
            "| N8322X|    1|\n",
            "| N466SW|    1|\n",
            "|  N6700|    1|\n",
            "| N607AS|   45|\n",
            "| N622SW|    4|\n",
            "| N584AS|   31|\n",
            "| N914WN|    4|\n",
            "| N654AW|    2|\n",
            "| N336NW|    1|\n",
            "+-------+-----+\n",
            "only showing top 20 rows\n",
            "\n"
          ]
        }
      ],
      "source": [
        "by_plane = flights2.groupBy(\"tailnum\")\n",
        "by_plane.count().show()"
      ]
    },
    {
      "cell_type": "code",
      "execution_count": 101,
      "metadata": {
        "colab": {
          "base_uri": "https://localhost:8080/",
          "height": 328
        },
        "id": "8IUR3GRFzDJ7",
        "outputId": "74914c0c-8b40-4ffe-df74-11dae971b57f"
      },
      "outputs": [
        {
          "name": "stdout",
          "output_type": "stream",
          "text": [
            "+------+------------------+\n",
            "|origin|     avg(air_time)|\n",
            "+------+------------------+\n",
            "|   SEA| 160.4361496051259|\n",
            "|   PDX|137.11543248288737|\n",
            "+------+------------------+\n",
            "\n"
          ]
        }
      ],
      "source": [
        "by_origin = flights2.groupBy(\"origin\")\n",
        "by_origin.avg(\"air_time\").show()"
      ]
    },
    {
      "cell_type": "markdown",
      "metadata": {
        "id": "NJx1EiYhzqC7"
      },
      "source": [
        "EXERCICI: prova de fer JOINS entre els DATAFRAMES flights i flights2\n"
      ]
    },
    {
      "cell_type": "code",
      "execution_count": 109,
      "metadata": {},
      "outputs": [
        {
          "name": "stdout",
          "output_type": "stream",
          "text": [
            "+-------+----+-----+---+--------+---------+--------+---------+-------+------+------+----+--------+--------+----+------+----+-----+---+--------+---------+--------+---------+-------+------+------+----+--------+--------+----+------+------------------+\n",
            "|tailnum|year|month|day|dep_time|dep_delay|arr_time|arr_delay|carrier|flight|origin|dest|air_time|distance|hour|minute|year|month|day|dep_time|dep_delay|arr_time|arr_delay|carrier|flight|origin|dest|air_time|distance|hour|minute|    duration_hours|\n",
            "+-------+----+-----+---+--------+---------+--------+---------+-------+------+------+----+--------+--------+----+------+----+-----+---+--------+---------+--------+---------+-------+------+------+----+--------+--------+----+------+------------------+\n",
            "| N846VA|2014|   12|  8|     658|       -7|     935|       -5|     VX|  1780|   SEA| LAX|     132|     954|   6|    58|2014|    2| 28|     700|        0|     854|       14|     VX|    84|   PDX| SFO|      88|      88|   7|     0|1.4666666666666666|\n",
            "| N846VA|2014|   12|  8|     658|       -7|     935|       -5|     VX|  1780|   SEA| LAX|     132|     954|   6|    58|2014|   12| 17|    1846|       86|    2045|       80|     VX|   755|   SEA| SFO|      98|      98|  18|    46|1.6333333333333333|\n",
            "| N846VA|2014|   12|  8|     658|       -7|     935|       -5|     VX|  1780|   SEA| LAX|     132|     954|   6|    58|2014|    4|  8|    1057|        2|    1334|        4|     VX|   784|   SEA| LAX|     137|     137|  10|    57| 2.283333333333333|\n",
            "| N846VA|2014|   12|  8|     658|       -7|     935|       -5|     VX|  1780|   SEA| LAX|     132|     954|   6|    58|2014|    3|  1|    1525|      115|    1720|      105|     VX|   755|   SEA| SFO|      96|      96|  15|    25|               1.6|\n",
            "| N846VA|2014|   12|  8|     658|       -7|     935|       -5|     VX|  1780|   SEA| LAX|     132|     954|   6|    58|2014|    3| 12|     648|      -12|     843|       -2|     VX|    84|   PDX| SFO|      92|      92|   6|    48|1.5333333333333334|\n",
            "| N846VA|2014|   12|  8|     658|       -7|     935|       -5|     VX|  1780|   SEA| LAX|     132|     954|   6|    58|2014|   12|  8|     658|       -7|     935|       -5|     VX|  1780|   SEA| LAX|     132|     132|   6|    58|               2.2|\n",
            "| N559AS|2014|    1| 22|    1040|        5|    1505|        5|     AS|   851|   SEA| HNL|     360|    2677|  10|    40|2014|    7| 30|    1504|       44|    1558|       41|     AS|   173|   SEA| KTN|      92|      92|  15|     4|1.5333333333333334|\n",
            "| N559AS|2014|    1| 22|    1040|        5|    1505|        5|     AS|   851|   SEA| HNL|     360|    2677|  10|    40|2014|    9| 23|     900|        0|    1143|        8|     AS|   536|   SEA| LAX|     129|     129|   9|     0|              2.15|\n",
            "| N559AS|2014|    1| 22|    1040|        5|    1505|        5|     AS|   851|   SEA| HNL|     360|    2677|  10|    40|2014|    9| 18|     917|       -3|    1116|       -5|     AS|   334|   SEA| SJC|     102|     102|   9|    17|               1.7|\n",
            "| N559AS|2014|    1| 22|    1040|        5|    1505|        5|     AS|   851|   SEA| HNL|     360|    2677|  10|    40|2014|    9| 17|    1144|       -6|    1433|        0|     AS|   809|   PDX| OGG|     320|     320|  11|    44| 5.333333333333333|\n",
            "| N559AS|2014|    1| 22|    1040|        5|    1505|        5|     AS|   851|   SEA| HNL|     360|    2677|  10|    40|2014|    9|  3|     855|       -5|    1045|       -1|     AS|   360|   SEA| SMF|      82|      82|   8|    55|1.3666666666666667|\n",
            "| N559AS|2014|    1| 22|    1040|        5|    1505|        5|     AS|   851|   SEA| HNL|     360|    2677|  10|    40|2014|    9|  8|    2014|       19|    2151|       16|     AS|   404|   PDX| SJC|      81|      81|  20|    14|              1.35|\n",
            "| N559AS|2014|    1| 22|    1040|        5|    1505|        5|     AS|   851|   SEA| HNL|     360|    2677|  10|    40|2014|    2|  1|    1948|       -7|    2127|      -12|     AS|   404|   PDX| SJC|      84|      84|  19|    48|               1.4|\n",
            "| N559AS|2014|    1| 22|    1040|        5|    1505|        5|     AS|   851|   SEA| HNL|     360|    2677|  10|    40|2014|    6| 10|    1115|       15|    1350|       23|     AS|    91|   SEA| ANC|     196|     196|  11|    15|3.2666666666666666|\n",
            "| N559AS|2014|    1| 22|    1040|        5|    1505|        5|     AS|   851|   SEA| HNL|     360|    2677|  10|    40|2014|   10| 30|     655|       -5|     934|        0|     AS|   466|   SEA| LAX|     136|     136|   6|    55|2.2666666666666666|\n",
            "| N559AS|2014|    1| 22|    1040|        5|    1505|        5|     AS|   851|   SEA| HNL|     360|    2677|  10|    40|2014|    6| 20|    1327|       -3|    1658|      -21|     AS|   674|   SEA| DEN|     125|     125|  13|    27|2.0833333333333335|\n",
            "| N559AS|2014|    1| 22|    1040|        5|    1505|        5|     AS|   851|   SEA| HNL|     360|    2677|  10|    40|2014|    8| 23|    2150|       -5|     617|       17|     AS|   924|   SEA| BOS|     300|     300|  21|    50|               5.0|\n",
            "| N559AS|2014|    1| 22|    1040|        5|    1505|        5|     AS|   851|   SEA| HNL|     360|    2677|  10|    40|2014|    6| 15|     721|        6|     920|        2|     AS|   338|   SEA| SJC|      94|      94|   7|    21|1.5666666666666667|\n",
            "| N559AS|2014|    1| 22|    1040|        5|    1505|        5|     AS|   851|   SEA| HNL|     360|    2677|  10|    40|2014|    9| 26|    2010|        5|    2244|       10|     AS|    91|   SEA| ANC|     200|     200|  20|    10|3.3333333333333335|\n",
            "| N559AS|2014|    1| 22|    1040|        5|    1505|        5|     AS|   851|   SEA| HNL|     360|    2677|  10|    40|2014|    8| 31|    1949|       -6|    2211|      -18|     AS|   484|   SEA| SAN|     130|     130|  19|    49|2.1666666666666665|\n",
            "+-------+----+-----+---+--------+---------+--------+---------+-------+------+------+----+--------+--------+----+------+----+-----+---+--------+---------+--------+---------+-------+------+------+----+--------+--------+----+------+------------------+\n",
            "only showing top 20 rows\n",
            "\n"
          ]
        }
      ],
      "source": [
        "flights.join(flights2, on='tailnum', how='leftouter').show()"
      ]
    }
  ],
  "metadata": {
    "colab": {
      "provenance": []
    },
    "kernelspec": {
      "display_name": "base",
      "language": "python",
      "name": "python3"
    },
    "language_info": {
      "codemirror_mode": {
        "name": "ipython",
        "version": 3
      },
      "file_extension": ".py",
      "mimetype": "text/x-python",
      "name": "python",
      "nbconvert_exporter": "python",
      "pygments_lexer": "ipython3",
      "version": "3.9.13"
    },
    "vscode": {
      "interpreter": {
        "hash": "48ed48f5542fe07e8f725768fb6d295eb9c66c05001f1d4e389bf0879d8b38cd"
      }
    }
  },
  "nbformat": 4,
  "nbformat_minor": 0
}
