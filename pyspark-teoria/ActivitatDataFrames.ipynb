{
 "cells": [
  {
   "attachments": {},
   "cell_type": "markdown",
   "metadata": {},
   "source": [
    "## Activitat DataFrames PySpark a partir dels  datasets:  flights,  planes i airports"
   ]
  },
  {
   "cell_type": "code",
   "execution_count": 140,
   "metadata": {},
   "outputs": [],
   "source": [
    "from pyspark.sql import SparkSession\n",
    "spark = SparkSession.builder.getOrCreate()\n",
    "flights_small_df = spark.read.csv(\"flights_small.csv\", header=True)\n",
    "flights_small_df = flights_small_df.withColumn(\"year\", flights_small_df[\"year\"].cast(\"integer\"))\n",
    "flights_small_df = flights_small_df.withColumn(\"month\", flights_small_df[\"month\"].cast(\"integer\"))\n",
    "flights_small_df = flights_small_df.withColumn(\"day\", flights_small_df[\"day\"].cast(\"integer\"))\n",
    "flights_small_df = flights_small_df.withColumn(\"dep_time\", flights_small_df[\"dep_time\"].cast(\"integer\"))\n",
    "flights_small_df = flights_small_df.withColumn(\"dep_delay\", flights_small_df[\"dep_delay\"].cast(\"integer\"))\n",
    "flights_small_df = flights_small_df.withColumn(\"arr_time\", flights_small_df[\"arr_time\"].cast(\"integer\"))\n",
    "flights_small_df = flights_small_df.withColumn(\"arr_delay\", flights_small_df[\"arr_delay\"].cast(\"integer\"))\n",
    "flights_small_df = flights_small_df.withColumn(\"flight\", flights_small_df[\"flight\"].cast(\"integer\"))\n",
    "flights_small_df = flights_small_df.withColumn(\"air_time\", flights_small_df[\"air_time\"].cast(\"integer\"))\n",
    "flights_small_df = flights_small_df.withColumn(\"distance\", flights_small_df[\"distance\"].cast(\"integer\"))\n",
    "flights_small_df = flights_small_df.withColumn(\"hour\", flights_small_df[\"hour\"].cast(\"integer\"))\n",
    "flights_small_df = flights_small_df.withColumn(\"minute\", flights_small_df[\"minute\"].cast(\"integer\"))\n",
    "flights_small_df = flights_small_df.withColumnRenamed(\"year\", \"flight_year\")\n",
    "flights_small_df.createOrReplaceTempView(\"flights_small_df\")"
   ]
  },
  {
   "attachments": {},
   "cell_type": "markdown",
   "metadata": {},
   "source": [
    "### Estudi de la Petjada de Carboni en funció del temps a l’aire (Petjada de Carboni=airtime):"
   ]
  },
  {
   "cell_type": "code",
   "execution_count": 141,
   "metadata": {},
   "outputs": [
    {
     "name": "stdout",
     "output_type": "stream",
     "text": [
      "+-------+--------+\n",
      "|tailnum|air_time|\n",
      "+-------+--------+\n",
      "| N435AS|    7834|\n",
      "+-------+--------+\n",
      "\n"
     ]
    }
   ],
   "source": [
    "#1. Quin és l’avió («tailnum») amb major petjada de carboni.\n",
    "query = 'SELECT tailnum, SUM(air_time) AS air_time FROM flights_small_df GROUP BY tailnum ORDER BY air_time DESC LIMIT 1'\n",
    "spark.sql(query).show()"
   ]
  },
  {
   "cell_type": "code",
   "execution_count": 142,
   "metadata": {},
   "outputs": [
    {
     "name": "stdout",
     "output_type": "stream",
     "text": [
      "+-------+--------+\n",
      "|tailnum|air_time|\n",
      "+-------+--------+\n",
      "| N658CT|      27|\n",
      "+-------+--------+\n",
      "\n"
     ]
    }
   ],
   "source": [
    "#2. Quin és l’avió («tailnum») amb menor petjada de carboni. ¿ha estat temps sense volar?\n",
    "query = 'SELECT tailnum, SUM(air_time) AS air_time FROM flights_small_df WHERE air_time IS NOT NULL GROUP BY tailnum ORDER BY air_time ASC LIMIT 1'\n",
    "spark.sql(query).show()"
   ]
  },
  {
   "cell_type": "code",
   "execution_count": 143,
   "metadata": {},
   "outputs": [
    {
     "name": "stdout",
     "output_type": "stream",
     "text": [
      "+-------+------------+-------------+\n",
      "|tailnum|air_time_avg|air_time_mean|\n",
      "+-------+------------+-------------+\n",
      "| N442AS|      177.45|       177.45|\n",
      "| N102UW|       265.5|        265.5|\n",
      "| N36472|      179.75|       179.75|\n",
      "| N38451|      219.25|       219.25|\n",
      "| N73283|      131.75|       131.75|\n",
      "| N513UA|       199.0|        199.0|\n",
      "| N954WN|        98.4|         98.4|\n",
      "| N388DA|      208.33|       208.33|\n",
      "| N567AA|       199.0|        199.0|\n",
      "| N516UA|       191.0|        191.0|\n",
      "| N927DN|       175.0|        175.0|\n",
      "| N8322X|       224.0|        224.0|\n",
      "| N466SW|       158.0|        158.0|\n",
      "|  N6700|       249.0|        249.0|\n",
      "| N607AS|      129.51|       129.51|\n",
      "| N622SW|        97.0|         97.0|\n",
      "| N584AS|      201.42|       201.42|\n",
      "| N914WN|       125.5|        125.5|\n",
      "| N654AW|       130.5|        130.5|\n",
      "| N336NW|        80.0|         80.0|\n",
      "+-------+------------+-------------+\n",
      "only showing top 20 rows\n",
      "\n"
     ]
    }
   ],
   "source": [
    "#3. Quina és la petjada promig i la petjada mitjana segons «tailnum». Si hi aprecieu diferència notable a què ho atribuiu?\n",
    "query = 'SELECT tailnum, ROUND(AVG(air_time), 2) AS air_time_avg, ROUND(MEAN(air_time), 2) AS air_time_mean FROM flights_small_df GROUP BY tailnum'\n",
    "spark.sql(query).show()"
   ]
  },
  {
   "cell_type": "code",
   "execution_count": 144,
   "metadata": {},
   "outputs": [
    {
     "name": "stdout",
     "output_type": "stream",
     "text": [
      "+-------+--------+\n",
      "|carrier|air_time|\n",
      "+-------+--------+\n",
      "|     AS|  594898|\n",
      "+-------+--------+\n",
      "\n"
     ]
    }
   ],
   "source": [
    "#4. Quina és l’aerolinia amb major petjada de carboni.\n",
    "query = 'SELECT carrier, SUM(air_time) AS air_time FROM flights_small_df GROUP BY carrier ORDER BY air_time DESC LIMIT 1'\n",
    "spark.sql(query).show()"
   ]
  },
  {
   "cell_type": "code",
   "execution_count": 145,
   "metadata": {},
   "outputs": [
    {
     "name": "stdout",
     "output_type": "stream",
     "text": [
      "+-------+--------+\n",
      "|carrier|air_time|\n",
      "+-------+--------+\n",
      "|     VX|   19990|\n",
      "+-------+--------+\n",
      "\n"
     ]
    }
   ],
   "source": [
    "#5. Quina és l’aerolinia amb menor petjada de carboni.\n",
    "query = 'SELECT carrier, SUM(air_time) AS air_time FROM flights_small_df GROUP BY carrier ORDER BY air_time ASC LIMIT 1'\n",
    "spark.sql(query).show()"
   ]
  },
  {
   "cell_type": "code",
   "execution_count": 146,
   "metadata": {},
   "outputs": [
    {
     "name": "stdout",
     "output_type": "stream",
     "text": [
      "+------------+--------+\n",
      "|manufacturer|air_time|\n",
      "+------------+--------+\n",
      "|      BOEING| 1044572|\n",
      "+------------+--------+\n",
      "\n"
     ]
    }
   ],
   "source": [
    "#6. Quin és el fabricant d’avions amb major petjada de carboni.\n",
    "planes_df = spark.read.csv(\"planes.csv\", header=True)\n",
    "planes_df = planes_df.withColumn(\"year\", planes_df[\"year\"].cast(\"integer\"))\n",
    "planes_df = planes_df.withColumn(\"engines\", planes_df[\"engines\"].cast(\"integer\"))\n",
    "planes_df = planes_df.withColumn(\"seats\", planes_df[\"seats\"].cast(\"integer\"))\n",
    "planes_df = planes_df.withColumn(\"speed\", planes_df[\"speed\"].cast(\"integer\"))\n",
    "flights_planes_df = flights_small_df.join(planes_df, flights_small_df.tailnum == planes_df.tailnum, 'inner')\n",
    "flights_planes_df.createOrReplaceTempView(\"flights_planes_df\")\n",
    "query = 'SELECT manufacturer, SUM(air_time) AS air_time FROM flights_planes_df GROUP BY manufacturer ORDER BY air_time DESC LIMIT 1'\n",
    "spark.sql(query).show()"
   ]
  },
  {
   "cell_type": "code",
   "execution_count": 147,
   "metadata": {},
   "outputs": [
    {
     "name": "stdout",
     "output_type": "stream",
     "text": [
      "+-------------+--------+\n",
      "| manufacturer|air_time|\n",
      "+-------------+--------+\n",
      "|BARKER JACK L|     131|\n",
      "+-------------+--------+\n",
      "\n"
     ]
    }
   ],
   "source": [
    "#7. Quin és el fabricants d’avions amb menor petjada de carboni.\n",
    "query = 'SELECT manufacturer, SUM(air_time) AS air_time FROM flights_planes_df GROUP BY manufacturer ORDER BY air_time ASC LIMIT 1'\n",
    "spark.sql(query).show()"
   ]
  },
  {
   "cell_type": "code",
   "execution_count": 148,
   "metadata": {},
   "outputs": [
    {
     "name": "stdout",
     "output_type": "stream",
     "text": [
      "+------------+-------+--------+\n",
      "|manufacturer|  model|air_time|\n",
      "+------------+-------+--------+\n",
      "|      BOEING|737-890|  260964|\n",
      "+------------+-------+--------+\n",
      "\n"
     ]
    }
   ],
   "source": [
    "#8. Quin és el model d’avions amb major petjada de carboni.\n",
    "query = 'SELECT manufacturer, model, SUM(air_time) AS air_time FROM flights_planes_df GROUP BY manufacturer, model ORDER BY air_time DESC LIMIT 1'\n",
    "spark.sql(query).show()"
   ]
  },
  {
   "cell_type": "code",
   "execution_count": 149,
   "metadata": {},
   "outputs": [
    {
     "name": "stdout",
     "output_type": "stream",
     "text": [
      "+------------+-------+--------+\n",
      "|manufacturer|  model|air_time|\n",
      "+------------+-------+--------+\n",
      "|      BOEING|737-3T5|     104|\n",
      "+------------+-------+--------+\n",
      "\n"
     ]
    }
   ],
   "source": [
    "#9. Quin és el model d’avions amb menor petjada de carboni.\n",
    "query = 'SELECT manufacturer, model, SUM(air_time) AS air_time FROM flights_planes_df GROUP BY manufacturer, model ORDER BY air_time ASC LIMIT 1'\n",
    "spark.sql(query).show()"
   ]
  },
  {
   "cell_type": "code",
   "execution_count": 150,
   "metadata": {},
   "outputs": [
    {
     "name": "stdout",
     "output_type": "stream",
     "text": [
      "+----+--------+\n",
      "|year|air_time|\n",
      "+----+--------+\n",
      "|null|   15556|\n",
      "|   0|     265|\n",
      "|1959|     199|\n",
      "|1975|     195|\n",
      "|1980|     598|\n",
      "|1984|    1229|\n",
      "|1985|    4900|\n",
      "|1986|    2220|\n",
      "|1987|    5939|\n",
      "|1988|    9510|\n",
      "|1989|    7998|\n",
      "|1990|   15555|\n",
      "|1991|   11563|\n",
      "|1992|   39326|\n",
      "|1993|   11901|\n",
      "|1994|   20904|\n",
      "|1995|   14143|\n",
      "|1996|   19833|\n",
      "|1997|   33159|\n",
      "|1998|   71523|\n",
      "+----+--------+\n",
      "only showing top 20 rows\n",
      "\n"
     ]
    }
   ],
   "source": [
    "#10. Fes una taula de petjada de carboni en funció dels anys de fabricació dels avions\n",
    "query = 'SELECT year, SUM(air_time) AS air_time FROM flights_planes_df GROUP BY year ORDER BY year'\n",
    "spark.sql(query).show()"
   ]
  },
  {
   "cell_type": "code",
   "execution_count": 151,
   "metadata": {},
   "outputs": [
    {
     "name": "stdout",
     "output_type": "stream",
     "text": [
      "+-------+------------------+\n",
      "|carrier| air_time_per_seat|\n",
      "+-------+------------------+\n",
      "|     AA|1.3147003879867798|\n",
      "+-------+------------------+\n",
      "\n"
     ]
    }
   ],
   "source": [
    "#11. Quina és l’aerolinia amb major petjada de carboni normalitzat al número de seients disponible a cada vol.\n",
    "query = 'SELECT carrier, SUM(air_time) / SUM(seats) AS air_time_per_seat FROM flights_planes_df GROUP BY carrier ORDER BY air_time_per_seat DESC LIMIT 1'\n",
    "spark.sql(query).show()"
   ]
  },
  {
   "cell_type": "code",
   "execution_count": 152,
   "metadata": {},
   "outputs": [
    {
     "name": "stdout",
     "output_type": "stream",
     "text": [
      "+-------+------------------+\n",
      "|carrier| air_time_per_seat|\n",
      "+-------+------------------+\n",
      "|     VX|0.6934230609130012|\n",
      "+-------+------------------+\n",
      "\n"
     ]
    }
   ],
   "source": [
    "#12. Quina és l’aerolinia amb menor petjada de carboni normalitzat al número de seients disponible a cada vol.\n",
    "query = 'SELECT carrier, SUM(air_time) / SUM(seats) AS air_time_per_seat FROM flights_planes_df GROUP BY carrier ORDER BY air_time_per_seat ASC LIMIT 1'\n",
    "spark.sql(query).show()"
   ]
  },
  {
   "cell_type": "code",
   "execution_count": 153,
   "metadata": {},
   "outputs": [
    {
     "name": "stdout",
     "output_type": "stream",
     "text": [
      "+-------------+-----------------+\n",
      "| manufacturer|air_time_per_seat|\n",
      "+-------------+-----------------+\n",
      "|BARKER JACK L|             65.5|\n",
      "+-------------+-----------------+\n",
      "\n"
     ]
    }
   ],
   "source": [
    "#13. Quin és el fabricant d’avions amb major petjada de carboni normalitzat al número de seients disponible a cada vol.\n",
    "query = 'SELECT manufacturer, SUM(air_time) / SUM(seats) AS air_time_per_seat FROM flights_planes_df GROUP BY manufacturer ORDER BY air_time_per_seat DESC LIMIT 1'\n",
    "spark.sql(query).show()"
   ]
  },
  {
   "cell_type": "code",
   "execution_count": 154,
   "metadata": {},
   "outputs": [
    {
     "name": "stdout",
     "output_type": "stream",
     "text": [
      "+------------+------------------+\n",
      "|manufacturer| air_time_per_seat|\n",
      "+------------+------------------+\n",
      "|      AIRBUS|0.8025864420749581|\n",
      "+------------+------------------+\n",
      "\n"
     ]
    }
   ],
   "source": [
    "#14. Quin és el fabricants d’avions amb menor petjada de carboni normalitzat al número de seients disponible a cada vol.\n",
    "query = 'SELECT manufacturer, SUM(air_time) / SUM(seats) AS air_time_per_seat FROM flights_planes_df GROUP BY manufacturer ORDER BY air_time_per_seat ASC LIMIT 1'\n",
    "spark.sql(query).show()"
   ]
  },
  {
   "cell_type": "code",
   "execution_count": 155,
   "metadata": {},
   "outputs": [
    {
     "name": "stdout",
     "output_type": "stream",
     "text": [
      "+------------+-----+-----------------+\n",
      "|manufacturer|model|air_time_per_seat|\n",
      "+------------+-----+-----------------+\n",
      "|      CESSNA|  150|             99.5|\n",
      "+------------+-----+-----------------+\n",
      "\n"
     ]
    }
   ],
   "source": [
    "#15. Quin és el model d’avions amb major petjada de carboni normalitzat al número de seients disponible a cada vol.\n",
    "query = 'SELECT manufacturer, model, SUM(air_time) / SUM(seats) AS air_time_per_seat FROM flights_planes_df GROUP BY manufacturer, model ORDER BY air_time_per_seat DESC LIMIT 1'\n",
    "spark.sql(query).show()"
   ]
  },
  {
   "cell_type": "code",
   "execution_count": 156,
   "metadata": {},
   "outputs": [
    {
     "name": "stdout",
     "output_type": "stream",
     "text": [
      "+------------+-------+-----------------+\n",
      "|manufacturer|  model|air_time_per_seat|\n",
      "+------------+-------+-----------------+\n",
      "|      BOEING|737-3T5|0.348993288590604|\n",
      "+------------+-------+-----------------+\n",
      "\n"
     ]
    }
   ],
   "source": [
    "#16. Quin és el model d’avions amb menor petjada de carboni normalitzat al número de seients disponible a cada vol.\n",
    "query = 'SELECT manufacturer, model, SUM(air_time) / SUM(seats) AS air_time_per_seat FROM flights_planes_df GROUP BY manufacturer, model ORDER BY air_time_per_seat ASC LIMIT 1'\n",
    "spark.sql(query).show()"
   ]
  },
  {
   "cell_type": "code",
   "execution_count": 157,
   "metadata": {},
   "outputs": [
    {
     "name": "stdout",
     "output_type": "stream",
     "text": [
      "+----+------------------+\n",
      "|year| air_time_per_seat|\n",
      "+----+------------------+\n",
      "|null|1.0381047714381049|\n",
      "|   0|        1.03515625|\n",
      "|1959|              99.5|\n",
      "|1975|              39.0|\n",
      "|1980|24.916666666666668|\n",
      "|1984|0.6904494382022472|\n",
      "|1985|0.8541049328917553|\n",
      "|1986|0.8771236665349664|\n",
      "|1987|0.8649868919312554|\n",
      "|1988|0.6520844761382337|\n",
      "|1989|0.8479643765903307|\n",
      "|1990|0.8448294590484466|\n",
      "|1991| 0.816423074207442|\n",
      "|1992|0.8945859872611465|\n",
      "|1993|0.8149137222678718|\n",
      "|1994|0.8245828566920437|\n",
      "|1995|0.8277537164930352|\n",
      "|1996|0.8999047143699805|\n",
      "|1997|0.9564452392627419|\n",
      "|1998|0.8082882231288212|\n",
      "+----+------------------+\n",
      "only showing top 20 rows\n",
      "\n"
     ]
    }
   ],
   "source": [
    "#17. Fes una taula de petjada de carboni en funció dels anys de fabricació dels avions normalitzat al número de seients disponible a cada vol.\n",
    "query = 'SELECT year, SUM(air_time) / SUM(seats) AS air_time_per_seat FROM flights_planes_df GROUP BY year ORDER BY year'\n",
    "spark.sql(query).show()"
   ]
  },
  {
   "cell_type": "code",
   "execution_count": 158,
   "metadata": {},
   "outputs": [
    {
     "name": "stdout",
     "output_type": "stream",
     "text": [
      "+-----+--------+\n",
      "|seats|air_time|\n",
      "+-----+--------+\n",
      "|  182|     132|\n",
      "|  149|     360|\n",
      "|  182|     111|\n",
      "|  149|      83|\n",
      "|  151|     127|\n",
      "|  149|     121|\n",
      "|  140|      90|\n",
      "|  182|      98|\n",
      "|  149|     135|\n",
      "|  149|     198|\n",
      "|  149|     130|\n",
      "|  149|     154|\n",
      "|  222|     127|\n",
      "|  149|     183|\n",
      "|  149|     129|\n",
      "|  149|      90|\n",
      "|  151|      76|\n",
      "|  140|     216|\n",
      "|  149|     290|\n",
      "|   80|     111|\n",
      "+-----+--------+\n",
      "only showing top 20 rows\n",
      "\n",
      "No es una hipòtesi vàlida, ja que hi ha avions amb molts seients i petjada de carboni baixa i avions amb pocs seients i petjada de carboni alta.\n"
     ]
    }
   ],
   "source": [
    "#19. Surt a compte des del punt de vista de la petjada de cada passatger que els avions tinguin més seients, menys o no és una hipòtesi vàlida?\n",
    "query = 'SELECT seats, air_time FROM flights_planes_df'\n",
    "spark.sql(query).show()\n",
    "print(\"No es una hipòtesi vàlida, ja que hi ha avions amb molts seients i petjada de carboni baixa i avions amb pocs seients i petjada de carboni alta.\")"
   ]
  },
  {
   "attachments": {},
   "cell_type": "markdown",
   "metadata": {},
   "source": [
    "### Estudi de la Puntualitat"
   ]
  },
  {
   "cell_type": "code",
   "execution_count": 159,
   "metadata": {},
   "outputs": [
    {
     "name": "stdout",
     "output_type": "stream",
     "text": [
      "+-------+---------+\n",
      "|carrier|arr_delay|\n",
      "+-------+---------+\n",
      "|     WN|     8373|\n",
      "+-------+---------+\n",
      "\n"
     ]
    }
   ],
   "source": [
    "#1. Quina és l’aerolinia amb més retard?\n",
    "query = 'SELECT carrier, SUM(arr_delay) AS arr_delay FROM flights_small_df GROUP BY carrier ORDER BY arr_delay DESC LIMIT 1'\n",
    "spark.sql(query).show()"
   ]
  },
  {
   "cell_type": "code",
   "execution_count": 160,
   "metadata": {},
   "outputs": [
    {
     "name": "stdout",
     "output_type": "stream",
     "text": [
      "+-------+--------------------+\n",
      "|carrier|arr_delay_per_flight|\n",
      "+-------+--------------------+\n",
      "|     AA|    6.51890756302521|\n",
      "+-------+--------------------+\n",
      "\n"
     ]
    }
   ],
   "source": [
    "#2. Quina és l’aerolinia amb més retard normalitzat al número de vols operats?\n",
    "query = 'SELECT carrier, SUM(arr_delay) / COUNT(arr_delay) AS arr_delay_per_flight FROM flights_small_df GROUP BY carrier ORDER BY arr_delay_per_flight DESC LIMIT 1'\n",
    "spark.sql(query).show()"
   ]
  },
  {
   "cell_type": "code",
   "execution_count": 161,
   "metadata": {},
   "outputs": [],
   "source": [
    "\n",
    "#3. Quina és l’aerolinia amb més retard normalitzat al número d’avions disponibles? Afecta tenir més o menys avions (flota)?\n",
    "\n",
    "#4. Fes una taula: en una columna anys de posada en servei i en l’altra de retard. Es pot deduir que l’edat de l’avió afecta a la puntualitat?\n",
    "\n",
    "#6. Agafem la taula anterior i hi afegim la granularitat de l'aerolínia és a dir estudiem l’edat dels avions per cada aerolínia. Es pot fer alguna hipótesi relacionada amb la gestió d’alguna aerolínia?\n",
    "\n",
    "#8. Agafem la taula anterior i enlloc de granular per aerolínia granulem per «seats». Es pot deduir que a major nombre de seients disponibles més retard? Hi ha colinialitat?\n",
    "\n",
    "#10. Fes un ó dos passos més enllà. És a dir, si això fos una entrevista de treball per una aerolínia, presenta una o dues hipótesis més sobre la puntualitat a partir de les dades d’aquests Datasets.\n"
   ]
  }
 ],
 "metadata": {
  "kernelspec": {
   "display_name": "base",
   "language": "python",
   "name": "python3"
  },
  "language_info": {
   "codemirror_mode": {
    "name": "ipython",
    "version": 3
   },
   "file_extension": ".py",
   "mimetype": "text/x-python",
   "name": "python",
   "nbconvert_exporter": "python",
   "pygments_lexer": "ipython3",
   "version": "3.9.13 (main, Aug 25 2022, 23:51:50) [MSC v.1916 64 bit (AMD64)]"
  },
  "orig_nbformat": 4,
  "vscode": {
   "interpreter": {
    "hash": "48ed48f5542fe07e8f725768fb6d295eb9c66c05001f1d4e389bf0879d8b38cd"
   }
  }
 },
 "nbformat": 4,
 "nbformat_minor": 2
}
